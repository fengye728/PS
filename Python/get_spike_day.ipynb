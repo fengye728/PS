{
 "cells": [
  {
   "cell_type": "markdown",
   "metadata": {},
   "source": [
    "# Find spike days"
   ]
  },
  {
   "cell_type": "markdown",
   "metadata": {},
   "source": [
    "## Load all companies"
   ]
  },
  {
   "cell_type": "code",
   "execution_count": 1,
   "metadata": {
    "collapsed": true
   },
   "outputs": [],
   "source": [
    "import numpy as np\n",
    "import pandas as pd\n",
    "import ta_lib\n",
    "import matplotlib.pyplot as plt"
   ]
  },
  {
   "cell_type": "code",
   "execution_count": 2,
   "metadata": {
    "collapsed": false
   },
   "outputs": [
    {
     "data": {
      "text/html": [
       "<div>\n",
       "<style scoped>\n",
       "    .dataframe tbody tr th:only-of-type {\n",
       "        vertical-align: middle;\n",
       "    }\n",
       "\n",
       "    .dataframe tbody tr th {\n",
       "        vertical-align: top;\n",
       "    }\n",
       "\n",
       "    .dataframe thead th {\n",
       "        text-align: right;\n",
       "    }\n",
       "</style>\n",
       "<table border=\"1\" class=\"dataframe\">\n",
       "  <thead>\n",
       "    <tr style=\"text-align: right;\">\n",
       "      <th></th>\n",
       "      <th>symbol</th>\n",
       "      <th>name</th>\n",
       "      <th>ipo_year</th>\n",
       "      <th>sector</th>\n",
       "      <th>industry</th>\n",
       "    </tr>\n",
       "  </thead>\n",
       "  <tbody>\n",
       "    <tr>\n",
       "      <th>0</th>\n",
       "      <td>BBD</td>\n",
       "      <td>Banco Bradesco Sa</td>\n",
       "      <td>0</td>\n",
       "      <td>Finance</td>\n",
       "      <td>Major Banks</td>\n",
       "    </tr>\n",
       "    <tr>\n",
       "      <th>1</th>\n",
       "      <td>BBH</td>\n",
       "      <td>VanEck Vectors Biotech ETF</td>\n",
       "      <td>0</td>\n",
       "      <td>n/a</td>\n",
       "      <td>n/a</td>\n",
       "    </tr>\n",
       "    <tr>\n",
       "      <th>2</th>\n",
       "      <td>BBL</td>\n",
       "      <td>BHP Billiton plc</td>\n",
       "      <td>0</td>\n",
       "      <td>Energy</td>\n",
       "      <td>Coal Mining</td>\n",
       "    </tr>\n",
       "    <tr>\n",
       "      <th>3</th>\n",
       "      <td>BBN</td>\n",
       "      <td>BalckRock Taxable Municipal Bond Trust</td>\n",
       "      <td>2010</td>\n",
       "      <td>n/a</td>\n",
       "      <td>n/a</td>\n",
       "    </tr>\n",
       "    <tr>\n",
       "      <th>4</th>\n",
       "      <td>BBF</td>\n",
       "      <td>BlackRock Municipal Income Investment Trust</td>\n",
       "      <td>0</td>\n",
       "      <td>n/a</td>\n",
       "      <td>n/a</td>\n",
       "    </tr>\n",
       "  </tbody>\n",
       "</table>\n",
       "</div>"
      ],
      "text/plain": [
       "  symbol                                         name  ipo_year   sector  \\\n",
       "0    BBD                            Banco Bradesco Sa         0  Finance   \n",
       "1    BBH                   VanEck Vectors Biotech ETF         0      n/a   \n",
       "2    BBL                             BHP Billiton plc         0   Energy   \n",
       "3    BBN       BalckRock Taxable Municipal Bond Trust      2010      n/a   \n",
       "4    BBF  BlackRock Municipal Income Investment Trust         0      n/a   \n",
       "\n",
       "      industry  \n",
       "0  Major Banks  \n",
       "1          n/a  \n",
       "2  Coal Mining  \n",
       "3          n/a  \n",
       "4          n/a  "
      ]
     },
     "execution_count": 2,
     "metadata": {},
     "output_type": "execute_result"
    }
   ],
   "source": [
    "from db_operation import DBService\n",
    "\n",
    "db = DBService()\n",
    "\n",
    "db.connect()\n",
    "\n",
    "companies = db.get_companies()\n",
    "\n",
    "companies.head()"
   ]
  },
  {
   "cell_type": "markdown",
   "metadata": {},
   "source": [
    "## Get all quotes"
   ]
  },
  {
   "cell_type": "code",
   "execution_count": 3,
   "metadata": {
    "collapsed": false
   },
   "outputs": [
    {
     "name": "stdout",
     "output_type": "stream",
     "text": [
      "Load success: 2018\n",
      "Wall time: 5min 5s\n"
     ]
    }
   ],
   "source": [
    "%%time\n",
    "#< symbol, quote list>\n",
    "all_quotes = db.get_all_quotes()\n",
    "print('Load success:', len(all_quotes))"
   ]
  },
  {
   "cell_type": "markdown",
   "metadata": {},
   "source": [
    "## General Functions"
   ]
  },
  {
   "cell_type": "code",
   "execution_count": 5,
   "metadata": {
    "collapsed": true
   },
   "outputs": [],
   "source": [
    "def basic_filter(quotes, index):\n",
    "    PERIOD = 20\n",
    "    \n",
    "    startIndex = index - PERIOD\n",
    "    if startIndex < 0:\n",
    "        startIndex = 0\n",
    "        \n",
    "    # filter price\n",
    "    period_quotes = quotes.iloc[startIndex : index]\n",
    "    \n",
    "    if np.min(period_quotes.low) < 3:\n",
    "        return False\n",
    "    \n",
    "    # filter volume\n",
    "    if np.mean(period_quotes.volume) < 100000:\n",
    "        return False\n",
    "    \n",
    "    return True\n",
    "\n",
    "def volitility(quotes, index, period):\n",
    "    atr = ta_lib.ATR(quotes, index, period)\n",
    "    avg = np.mean(quotes.iloc[index - period + 1 : index + 1].close)\n",
    "    return atr / avg\n",
    "\n",
    "# 凸点\n",
    "def angular(quotes, index, direc):\n",
    "    '''direc : 0 - resist angular, 1 - support angular'''\n",
    "    HALF_OB_PERIOD = 5\n",
    "\n",
    "    try:\n",
    "        ob_quos = quotes.iloc[index - HALF_OB_PERIOD : index + HALF_OB_PERIOD]\n",
    "\n",
    "        if direc == 0:\n",
    "            if np.max(ob_quos.high) <= quotes.iloc[index].high:\n",
    "                return True\n",
    "            else:\n",
    "                return False\n",
    "        elif direc == 1:\n",
    "            if np.min(ob_quos.low) >= quotes.iloc[index].low:\n",
    "                return True\n",
    "            else:\n",
    "                return False\n",
    "    except:\n",
    "        pass\n",
    "\n",
    "    return False"
   ]
  },
  {
   "cell_type": "markdown",
   "metadata": {},
   "source": [
    "## Reports of  大盘\n"
   ]
  },
  {
   "cell_type": "code",
   "execution_count": null,
   "metadata": {
    "collapsed": false
   },
   "outputs": [],
   "source": [
    "reports = []\n",
    "target_dt =  -1\n",
    "period = 300\n",
    "for sector, group in companies[['symbol', 'sector']].groupby(['sector']):\n",
    "    \n",
    "    for i in range(period):\n",
    "        cur_dt = target_dt - i\n",
    "        up_count = 0\n",
    "        down_count = 0        \n",
    "        for symbol in group['symbol']:\n",
    "            if symbol in all_quotes and len(all_quotes[symbol]) > period:\n",
    "                quote_dt = all_quotes[symbol]['quote_date'].iloc[cur_dt]\n",
    "                close_p = all_quotes[symbol]['close']\n",
    "\n",
    "                if close_p.iloc[cur_dt] > close_p.iloc[cur_dt - 1]:\n",
    "                    up_count += 1\n",
    "                else:\n",
    "                    down_count += 1\n",
    "        reports.append([quote_dt ,sector, up_count, down_count, up_count + down_count, up_count / (up_count + down_count)])\n",
    "\n",
    "reports = pd.DataFrame(reports, columns = ['quote_dt', 'sector', 'up_count', 'down_count', 'total', 'prec'])\n",
    "print(reports)\n",
    "print(reports['total'].sum(), reports['up_count'].sum(), reports['down_count'].sum())"
   ]
  },
  {
   "cell_type": "markdown",
   "metadata": {},
   "source": [
    "## Find 2B Principle"
   ]
  },
  {
   "cell_type": "code",
   "execution_count": 14,
   "metadata": {
    "collapsed": false,
    "scrolled": false
   },
   "outputs": [
    {
     "name": "stdout",
     "output_type": "stream",
     "text": [
      "ESPR\t20180108.0\n",
      "REDU\t20180108.0\n",
      "MBIO\t20180108.0\n",
      "TNDM\t20180108.0\n",
      "PRTY\t20180108.0\n",
      "TOCA\t20180108.0\n",
      "ARDX\t20180108.0\n",
      "FBIO\t20180108.0\n",
      "CRC\t20180108.0\n",
      "BOOT\t20180108.0\n",
      "DNN\t20180108.0\n",
      "AGLE\t20180108.0\n",
      "CRSP\t20180108.0\n",
      "BZUN\t20180108.0\n",
      "METC\t20180108.0\n",
      "VSI\t20180108.0\n",
      "SAGE\t20180108.0\n",
      "SECO\t20180108.0\n",
      "VJET\t20180108.0\n",
      "ACIU\t20180108.0\n",
      "RDUS\t20180108.0\n",
      "HIIQ\t20180108.0\n",
      "FLDM\t20180108.0\n",
      "ICD\t20180108.0\n",
      "MVO\t20180108.0\n",
      "FMI\t20180108.0\n",
      "REN\t20180108.0\n",
      "ERA\t20180108.0\n",
      "BW\t20180108.0\n",
      "VSLR\t20180108.0\n",
      "URGN\t20180108.0\n",
      "NVUS\t20180108.0\n",
      "ANAB\t20180108.0\n",
      "UONEK\t20180108.0\n",
      "UAN\t20180108.0\n",
      "VRS\t20180108.0\n",
      "SPHS\t20180108.0\n",
      "SB\t20180108.0\n",
      "TRPX\t20180108.0\n",
      "FATE\t20180108.0\n",
      "CELC\t20180108.0\n",
      "CCIH\t20180108.0\n",
      "FRTA\t20180108.0\n",
      "SGRY\t20180108.0\n"
     ]
    }
   ],
   "source": [
    "# Find peak 2b\n",
    "def double_peak(quotes, index, period):\n",
    "    RECENT_GAP = 3\n",
    "    if index - period < 0:\n",
    "        return False\n",
    "    cur_high = quotes.iloc[index].high\n",
    "    \n",
    "    prev_high = np.max(quotes[index - period : index - RECENT_GAP].high)\n",
    "    \n",
    "    # volatility filter\n",
    "    prev_volatility = volitility(quotes, index, 50)\n",
    "    if prev_volatility < 0.05:\n",
    "        return False\n",
    "    # print(prev_volatility)\n",
    "    \n",
    "    if cur_high >= prev_high * 0.97 and cur_high <= prev_high * 1.03:\n",
    "        return True\n",
    "    else:\n",
    "        return False\n",
    "\n",
    "start_offset = -50\n",
    "end_offset = -50\n",
    "for symbol, quotes in all_quotes.items():\n",
    "    base_index = len(quotes) - 1\n",
    "    \n",
    "    for index in range(base_index + start_offset, base_index + end_offset + 1):\n",
    "        if double_peak(quotes, index, 50):\n",
    "            print(symbol, quotes.iloc[index].quote_date, sep = '\\t')\n",
    "    \n",
    "    \n",
    "    "
   ]
  },
  {
   "cell_type": "markdown",
   "metadata": {},
   "source": [
    "## Find Z-Pattern"
   ]
  },
  {
   "cell_type": "code",
   "execution_count": null,
   "metadata": {
    "collapsed": false,
    "scrolled": false
   },
   "outputs": [],
   "source": [
    "def z_pattern(quotes, index):\n",
    "    ''' Up trend with some great pos volume and following without great neg volume'''\n",
    "    PERIOD = 14\n",
    "    # spike volume muiltple\n",
    "    VOLUME_MIN_THRESHOLD = 3\n",
    "    VOLUME_MAX_THRESHOLD = 8\n",
    "    # positive spike number in period\n",
    "    UP_TIMES = 3\n",
    "    \n",
    "    # ---------------- past filter -----------------\n",
    "    period_quotes = quotes.iloc[index - PERIOD + 1: index + 1]\n",
    "    prev_sma_vol = np.mean(quotes.iloc[index - PERIOD * 2 + 1: index - PERIOD + 1].volume)\n",
    "    \n",
    "    # filter volume: too small is danger\n",
    "    if prev_sma_vol < 100000:\n",
    "        return False\n",
    "    \n",
    "    # price filter: price in up trend\n",
    "    past_price = np.max(quotes.iloc[index - PERIOD * 2 : index - PERIOD].close)\n",
    "    cur_price = np.max(quotes.iloc[index - PERIOD : index + 1].high)\n",
    "    \n",
    "    #past_sma_price = ta_lib.SMA(quotes.close, index, PERIOD)\n",
    "    #cur_sma_price = ta_lib.SMA(quotes.close, index - PERIOD, PERIOD)\n",
    "    \n",
    "    # < to find bottom ?\n",
    "    if past_price > cur_price:\n",
    "        return False\n",
    "    \n",
    "    target_quotes = period_quotes[period_quotes.volume > prev_sma_vol * VOLUME_MIN_THRESHOLD]\n",
    "    pos_vol = target_quotes[target_quotes.volume < prev_sma_vol * VOLUME_MAX_THRESHOLD][target_quotes.close > target_quotes.open].volume\n",
    "    neg_vol = target_quotes[target_quotes.close < target_quotes.open].volume\n",
    "    \n",
    "    # pos volume bigger than neg volume\n",
    "    if len(pos_vol) < UP_TIMES or np.sum(pos_vol) < np.sum(neg_vol) * 2:\n",
    "        return False\n",
    "\n",
    "    # -------------- future filter -----------------\n",
    "    future_quotes = quotes.iloc[index : min(index + PERIOD, len(quotes))]\n",
    "    future_target_quotes = future_quotes[future_quotes.volume > prev_sma_vol * VOLUME_MIN_THRESHOLD]\n",
    "    future_neg_vols = future_target_quotes[future_target_quotes.close < future_target_quotes.open].volume\n",
    "    \n",
    "    if np.sum(future_neg_vols) * 2 > np.sum(pos_vol):\n",
    "        return False\n",
    "    \n",
    "    res_i = back_angular(quotes, index, 0)\n",
    "    if res_i is not None and quotes.iloc[res_i].high * 0.97 > np.min(future_quotes.close):\n",
    "        return False\n",
    "    \n",
    "    if res_i is not None and quotes.iloc[res_i].high * 1.1 < np.min(quotes.iloc[index + 10 : min(index + 100, len(quotes))].close):\n",
    "        return False\n"
   ]
  },
  {
   "cell_type": "code",
   "execution_count": null,
   "metadata": {
    "collapsed": true
   },
   "outputs": [],
   "source": [
    "def angular(quotes, index, direc):\n",
    "    '''direc : 0 - resist angular, 1 - support angular'''\n",
    "    HALF_OB_PERIOD = 5\n",
    "\n",
    "    try:\n",
    "        ob_quos = quotes.iloc[index - HALF_OB_PERIOD : index + HALF_OB_PERIOD]\n",
    "\n",
    "        if direc == 0:\n",
    "            if np.max(ob_quos.high) <= quotes.iloc[index].high:\n",
    "                return True\n",
    "            else:\n",
    "                return False\n",
    "        elif direc == 1:\n",
    "            if np.min(ob_quos.low) >= quotes.iloc[index].low:\n",
    "                return True\n",
    "            else:\n",
    "                return False\n",
    "    except:\n",
    "        pass\n",
    "\n",
    "    return False\n",
    "\n",
    "def back_angular(quotes, index, direc):\n",
    "    i = index\n",
    "    while i >= 0:\n",
    "        if angular(quotes, i, direc):\n",
    "            return i\n",
    "        i -= 1\n",
    "    return None\n",
    "        \n",
    "\n",
    "\n",
    "def sp_plot(quotes, index, period):\n",
    "\n",
    "    try:\n",
    "        \n",
    "        #if basic_filter(quotes, index, period):\n",
    "        #   return False\n",
    "        \n",
    "        # for plot\n",
    "        res_index = []\n",
    "        res_price = []\n",
    "\n",
    "        sup_index = []\n",
    "        sup_price = []\n",
    "    \n",
    "        # find support and resist point\n",
    "        base_i = index - period\n",
    "        i = index - period\n",
    "        while i <= index:\n",
    "            \n",
    "            if angular(quotes, i, 0):\n",
    "                res_index.append(i - base_i)\n",
    "                res_price.append(quotes.iloc[i].high)\n",
    "            if angular(quotes, i, 1):\n",
    "                sup_index.append(i - base_i)\n",
    "                sup_price.append(quotes.iloc[i].low)\n",
    "            \n",
    "            i += 1\n",
    "        \n",
    "        plt.plot(list(range(period)), quotes.iloc[index - period : index].close)\n",
    "        plt.plot(list(range(period)), quotes.iloc[index - period : index].high, 'y:')\n",
    "        plt.plot(list(range(period)), quotes.iloc[index - period : index].low, 'y:')\n",
    "        plt.plot(res_index, res_price, \"ro\")\n",
    "        plt.plot(sup_index, sup_price, \"go\")\n",
    "        plt.show()\n",
    "    except:\n",
    "        pass\n",
    "    \n",
    "    return False"
   ]
  },
  {
   "cell_type": "code",
   "execution_count": null,
   "metadata": {
    "collapsed": false,
    "scrolled": false
   },
   "outputs": [],
   "source": [
    "%%time\n",
    "\n",
    "# count of spike day\n",
    "count = 0\n",
    "# observing date period\n",
    "start_dt = -300\n",
    "target_dt = -250\n",
    "\n",
    "for symbol, quotes in all_quotes.items():\n",
    "    if len(quotes) < abs(start_dt) + 20:\n",
    "        continue\n",
    "    last_i = -6\n",
    "    for i in range(len(quotes) + start_dt, len(quotes) + target_dt):\n",
    "        \n",
    "        if not basic_filter(quotes, i):\n",
    "            continue\n",
    "        if(z_pattern(quotes, i)):\n",
    "    \n",
    "            if i - last_i > 5:\n",
    "                count += 1\n",
    "                print(count, symbol, quotes.iloc[i].quote_date, sep = '\\t')\n",
    "                #sp_plot(quotes, i + 100, 200)\n",
    "            last_i = i\n",
    "            \n",
    "\n"
   ]
  },
  {
   "cell_type": "markdown",
   "metadata": {},
   "source": [
    "##  Find consolidation pattern"
   ]
  },
  {
   "cell_type": "code",
   "execution_count": null,
   "metadata": {
    "collapsed": true
   },
   "outputs": [],
   "source": [
    "import ta_lib\n",
    "import matplotlib.pyplot as plt"
   ]
  },
  {
   "cell_type": "code",
   "execution_count": null,
   "metadata": {
    "collapsed": true
   },
   "outputs": [],
   "source": [
    "def volitility(quotes, index, period):\n",
    "    atr = ta_lib.ATR(quotes, index, period)\n",
    "    avg = np.mean(quotes.iloc[index - period + 1 : index + 1].close)\n",
    "    return atr / avg\n",
    "\n",
    "def is_consolidation(quotes, index, period = 20):\n",
    "    # range threhold\n",
    "    RANGE_THREHOLD = 0.1\n",
    "    \n",
    "    pre_volitility = volitility(quotes, index - period, period * 2)\n",
    "    cur_volitility = volitility(quotes, index, period)\n",
    "    \n",
    "    if pre_volitility > (cur_volitility * 1.5):\n",
    "        return True\n",
    "    else:\n",
    "        return False\n",
    "    '''\n",
    "    quotes_period = quotes.iloc[index - period + 1: index + 1]\n",
    "    max_high_price = np.max(quotes_period.close)\n",
    "    min_low_price = np.min(quotes_period.close)\n",
    "    \n",
    "    sma = np.mean(quotes_period.close)\n",
    "    \n",
    "    return (max_high_price - min_low_price) / sma < RANGE_THREHOLD\n",
    "    '''"
   ]
  },
  {
   "cell_type": "code",
   "execution_count": null,
   "metadata": {
    "collapsed": true
   },
   "outputs": [],
   "source": [
    "def consolidation_days(quotes, index, min_period = 20):\n",
    "    VOLITILITY_RATE = 1.5\n",
    "    \n",
    "    days = 0\n",
    "    i = min_period\n",
    "    while index - i >= 0:\n",
    "        pre_volitility = volitility(quotes, index - i, i)\n",
    "        cur_volitility = volitility(quotes, index, i)\n",
    "        if pre_volitility < 0.1:\n",
    "            break\n",
    "        if pre_volitility > (cur_volitility * VOLITILITY_RATE) and pre_volitility < (cur_volitility * 3):\n",
    "            days = i\n",
    "            i += 1\n",
    "        else:\n",
    "            break\n",
    "    return days"
   ]
  },
  {
   "cell_type": "code",
   "execution_count": null,
   "metadata": {
    "collapsed": true
   },
   "outputs": [],
   "source": [
    "# find reverse bulge\n",
    "def reverse_bulge_list(quotes):\n",
    "    ''' Get reverse_bulge day in period [ index - period + 1, index ] '''\n",
    "    # 0: in; 1: out\n",
    "    status = 1\n",
    "    result_list = []\n",
    "    \n",
    "    for i in range(0, len(quotes)):\n",
    "        mi = ta_lib.MI(quotes, i)\n",
    "        if mi is None:\n",
    "            continue\n",
    "        if mi >= 27:\n",
    "            status = 0\n",
    "        else:\n",
    "            if status == 0 and mi <= 26.5:\n",
    "                status = 1\n",
    "                result_list.append(i)\n",
    "    return result_list\n"
   ]
  },
  {
   "cell_type": "code",
   "execution_count": null,
   "metadata": {
    "collapsed": false
   },
   "outputs": [],
   "source": [
    "def draw(symbol, quotes):\n",
    "    EXPAND_SIZE = 100\n",
    "    mi_list = []\n",
    "    mfi_list = []\n",
    "\n",
    "    for i in range(len(quotes)):\n",
    "        index = i\n",
    "        dt = quotes.iloc[index].quote_date\n",
    "        mfi = ta_lib.MFI(quotes, index)\n",
    "        mi = ta_lib.MI(quotes, index)\n",
    "\n",
    "        mi_list.append(mi)\n",
    "        mfi_list.append(mfi)\n",
    "\n",
    "        print(i, dt, mfi, mi, sep = '\\t')\n",
    "        \n",
    "    mfi_list = np.array(mfi_list)\n",
    "    long_period = 16\n",
    "    short_period = 8\n",
    "\n",
    "    long_ema_mfi = SMA_LIST(mfi_list, long_period)\n",
    "    short_ema_mfi = SMA_LIST(mfi_list, short_period)   \n",
    "        \n",
    "    rb_list = reverse_bulge(quotes)\n",
    "    for index in rb_list:\n",
    "\n",
    "        #ta_lib.EMA_LIST(mfi_list, period, len(mfi_list), period)\n",
    "\n",
    "        plt.figure(1)\n",
    "        plt.subplot(311)\n",
    "        plt.plot(mi_list)\n",
    "        plt.plot([27] * rang, color = 'k')\n",
    "        plt.plot([26.5] * rang, 'k:')\n",
    "        plt.title(symbol)\n",
    "        plt.ylabel('MI')\n",
    "\n",
    "        plt.subplot(312)\n",
    "        view_quotes = list([index - EXPAND_SIZE : index + EXPAND_SIZE].close)\n",
    "        plt.plot(view_quotes)\n",
    "        plt.ylabel('stock')\n",
    "\n",
    "        plt.subplot(313)\n",
    "        plt.plot(mfi_list)\n",
    "        plt.plot(long_ema_mfi[index - EXPAND_SIZE : index + EXPAND_SIZE], color = 'r')\n",
    "        plt.plot(short_ema_mfi[index - EXPAND_SIZE : index + EXPAND_SIZE], color = 'g')\n",
    "        plt.plot([80] * EXPAND_SIZE * 2, color = 'k')\n",
    "        plt.plot([20] * EXPAND_SIZE * 2, color = 'k')\n",
    "        plt.plot([60] * EXPAND_SIZE * 2, 'y:')\n",
    "        plt.plot([40] * EXPAND_SIZE * 2, 'y:')\n",
    "        plt.plot([50] * EXPAND_SIZE * 2, 'y:')\n",
    "        plt.ylabel('MFI')\n",
    "        plt.ylim(0, 100)\n",
    "\n",
    "        plt.show()\n",
    "        "
   ]
  },
  {
   "cell_type": "code",
   "execution_count": null,
   "metadata": {
    "collapsed": true
   },
   "outputs": [],
   "source": [
    "def PNV(quote):\n",
    "    ''' Positive volume and Negative volume'''\n",
    "    all_len = quote.high - quote.low\n",
    "    candle_len = quote.close - quote.open\n",
    "    if candle_len > 0:\n",
    "        pos_len = all_len\n",
    "        neg_len = all_len - candle_len\n",
    "    elif candle_len < 0:\n",
    "        pos_len = all_len + candle_len\n",
    "        neg_len = all_len\n",
    "    else:\n",
    "        pos_len = neg_len = 1\n",
    "    \n",
    "    pos_volume = quote.volume * (pos_len / (pos_len + neg_len))\n",
    "    neg_volume = quote.volume - pos_volume\n",
    "    return pos_volume, neg_volume\n",
    "    "
   ]
  },
  {
   "cell_type": "code",
   "execution_count": null,
   "metadata": {
    "collapsed": true
   },
   "outputs": [],
   "source": [
    "def MFR(quotes, index, period):\n",
    "    ''' Money Flow Rate: rate of positive money divided by negitive money'''\n",
    "    pos_volume = 0\n",
    "    neg_volume = 0\n",
    "    for i in range(index - period + 1, index + 1):\n",
    "        p, n = PNV(quotes.iloc[i])\n",
    "        pos_volume += p\n",
    "        neg_volume += n\n",
    "    \n",
    "    return pos_volume / (pos_volume + neg_volume)\n"
   ]
  },
  {
   "cell_type": "code",
   "execution_count": null,
   "metadata": {
    "collapsed": true
   },
   "outputs": [],
   "source": [
    "# find fitting MFR\n",
    "period = 200\n",
    "for key, value in all_quotes.items():\n",
    "    \n",
    "    length = len(value)\n",
    "    for i in range(length - period, length - 100):\n",
    "        if i < period:\n",
    "            continue\n",
    "            \n",
    "        if value.iloc[i].low < 2:\n",
    "            continue\n",
    "        days = consolidation_days(value, i, 30)\n",
    "        \n",
    "        if days > 0:\n",
    "            volumes = np.mean(value.iloc[i - days + 1 : i + 1].volume)\n",
    "            mfr = MFR(value, i, days)\n",
    "            if volumes > 30000 and abs(mfr - 0.5) > 0.05:\n",
    "                high_p = np.max(value.iloc[i : i + 100].high)\n",
    "                low_p = np.min(value.iloc[i : i + 100].low)\n",
    "                print(key, '%.f' % value.iloc[i].quote_date,'%.2f' % mfr, days, value.iloc[i].close, high_p, low_p, sep = '\\t')"
   ]
  },
  {
   "cell_type": "code",
   "execution_count": null,
   "metadata": {
    "collapsed": true
   },
   "outputs": [],
   "source": [
    "# find breakout volume\n",
    "period = 200\n",
    "for key, value in all_quotes.items():\n",
    "    if companies[companies.symbol == key].sector.iloc[0] == 'Health Care':\n",
    "        continue\n",
    "    \n",
    "    length = len(value)\n",
    "    for i in range(length - period, length - 100):\n",
    "        if i < period:\n",
    "            continue\n",
    "            \n",
    "        if value.iloc[i].low < 2:\n",
    "            continue\n",
    "            \n",
    "        quotes = value.iloc[i - 50 : i]\n",
    "        sma_volume = np.mean( quotes.volume )\n",
    "        pre_high_p = np.max(quotes.high)\n",
    "        \n",
    "        today = value.iloc[i]\n",
    "        tomorrow = value.iloc[i + 1]\n",
    "        if today.volume > sma_volume * 5 and today.close > today.open and today.close > pre_high_p:\n",
    "            exam_quotes = value.iloc[i + 1 : i + 51]\n",
    "            high_p = np.max(exam_quotes.high)\n",
    "            high_day = np.argmax(exam_quotes.high)\n",
    "            low_p = np.min(exam_quotes.low)\n",
    "            low_day = np.argmin(exam_quotes.low)\n",
    "            if low_p > pre_high_p * 0.95:   \n",
    "                print(key, '%.f' % today.quote_date, '%.2f'% (today.close / pre_high_p - 1), '%.2f(%d)' % (high_p / pre_high_p - 1, high_day - i) , '%.2f(%d)' % (low_p / pre_high_p - 1, low_day - i), sep = '\\t')"
   ]
  },
  {
   "cell_type": "code",
   "execution_count": null,
   "metadata": {
    "collapsed": true
   },
   "outputs": [],
   "source": [
    "all_quotes['SNAP'].open"
   ]
  }
 ],
 "metadata": {
  "anaconda-cloud": {},
  "kernelspec": {
   "display_name": "Python [default]",
   "language": "python",
   "name": "python3"
  },
  "language_info": {
   "codemirror_mode": {
    "name": "ipython",
    "version": 3
   },
   "file_extension": ".py",
   "mimetype": "text/x-python",
   "name": "python",
   "nbconvert_exporter": "python",
   "pygments_lexer": "ipython3",
   "version": "3.5.2"
  }
 },
 "nbformat": 4,
 "nbformat_minor": 1
}
