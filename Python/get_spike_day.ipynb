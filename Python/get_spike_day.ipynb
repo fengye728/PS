{
 "cells": [
  {
   "cell_type": "markdown",
   "metadata": {},
   "source": [
    "# Find spike days"
   ]
  },
  {
   "cell_type": "markdown",
   "metadata": {},
   "source": [
    "## Load all companies"
   ]
  },
  {
   "cell_type": "code",
   "execution_count": 1,
   "metadata": {
    "collapsed": true
   },
   "outputs": [],
   "source": [
    "import numpy as np\n",
    "import pandas as pd"
   ]
  },
  {
   "cell_type": "code",
   "execution_count": 2,
   "metadata": {
    "collapsed": false
   },
   "outputs": [
    {
     "data": {
      "text/html": [
       "<div>\n",
       "<table border=\"1\" class=\"dataframe\">\n",
       "  <thead>\n",
       "    <tr style=\"text-align: right;\">\n",
       "      <th></th>\n",
       "      <th>symbol</th>\n",
       "      <th>name</th>\n",
       "      <th>ipo_year</th>\n",
       "      <th>sector</th>\n",
       "      <th>industry</th>\n",
       "    </tr>\n",
       "  </thead>\n",
       "  <tbody>\n",
       "    <tr>\n",
       "      <th>0</th>\n",
       "      <td>AAPC</td>\n",
       "      <td>Atlantic Alliance Partnership Corp.</td>\n",
       "      <td>2015</td>\n",
       "      <td>Consumer Services</td>\n",
       "      <td>Real Estate Investment Trusts</td>\n",
       "    </tr>\n",
       "    <tr>\n",
       "      <th>1</th>\n",
       "      <td>ABTL</td>\n",
       "      <td>Autobytel Inc.</td>\n",
       "      <td>1999</td>\n",
       "      <td>Technology</td>\n",
       "      <td>Computer Software: Programming, Data Processing</td>\n",
       "    </tr>\n",
       "    <tr>\n",
       "      <th>2</th>\n",
       "      <td>ACCP</td>\n",
       "      <td>Accelerated Pharma, Inc.</td>\n",
       "      <td>0</td>\n",
       "      <td>n/a</td>\n",
       "      <td>n/a</td>\n",
       "    </tr>\n",
       "    <tr>\n",
       "      <th>3</th>\n",
       "      <td>ACIU</td>\n",
       "      <td>AC Immune SA</td>\n",
       "      <td>2016</td>\n",
       "      <td>Health Care</td>\n",
       "      <td>Major Pharmaceuticals</td>\n",
       "    </tr>\n",
       "    <tr>\n",
       "      <th>4</th>\n",
       "      <td>ACIA</td>\n",
       "      <td>Acacia Communications, Inc.</td>\n",
       "      <td>2016</td>\n",
       "      <td>Technology</td>\n",
       "      <td>Semiconductors</td>\n",
       "    </tr>\n",
       "  </tbody>\n",
       "</table>\n",
       "</div>"
      ],
      "text/plain": [
       "  symbol                                 name  ipo_year             sector  \\\n",
       "0   AAPC  Atlantic Alliance Partnership Corp.      2015  Consumer Services   \n",
       "1   ABTL                       Autobytel Inc.      1999         Technology   \n",
       "2   ACCP             Accelerated Pharma, Inc.         0                n/a   \n",
       "3   ACIU                         AC Immune SA      2016        Health Care   \n",
       "4   ACIA          Acacia Communications, Inc.      2016         Technology   \n",
       "\n",
       "                                          industry  \n",
       "0                    Real Estate Investment Trusts  \n",
       "1  Computer Software: Programming, Data Processing  \n",
       "2                                              n/a  \n",
       "3                            Major Pharmaceuticals  \n",
       "4                                   Semiconductors  "
      ]
     },
     "execution_count": 2,
     "metadata": {},
     "output_type": "execute_result"
    }
   ],
   "source": [
    "from db_operation import DBService\n",
    "\n",
    "db = DBService()\n",
    "\n",
    "db.connect()\n",
    "\n",
    "companies = db.get_companies()\n",
    "\n",
    "companies.head()"
   ]
  },
  {
   "cell_type": "markdown",
   "metadata": {},
   "source": [
    "## Get all quotes"
   ]
  },
  {
   "cell_type": "code",
   "execution_count": 5,
   "metadata": {
    "collapsed": false
   },
   "outputs": [],
   "source": [
    "#< symbol, quote list>\n",
    "all_quotes = {}"
   ]
  },
  {
   "cell_type": "code",
   "execution_count": 6,
   "metadata": {
    "collapsed": false
   },
   "outputs": [
    {
     "name": "stdout",
     "output_type": "stream",
     "text": [
      "Load success: 4091\n",
      "Wall time: 3min 55s\n"
     ]
    }
   ],
   "source": [
    "%%time\n",
    "for symbol in companies.symbol.values:\n",
    "    if symbol in all_quotes:\n",
    "        quotes = all_quotes[symbol]\n",
    "    else:\n",
    "        quotes = db.get_quotes_by_symbol(symbol)\n",
    "        if np.any(quotes['volume'] < 100):\n",
    "            #print('Zero volume:', symbol)\n",
    "            continue\n",
    "        else:\n",
    "            all_quotes[symbol] = quotes\n",
    "\n",
    "print('Load success:', len(all_quotes))\n",
    "all_quotes['SNAP'].head()"
   ]
  },
  {
   "cell_type": "markdown",
   "metadata": {},
   "source": [
    "## Reports of  大盘\n"
   ]
  },
  {
   "cell_type": "code",
   "execution_count": 97,
   "metadata": {
    "collapsed": false
   },
   "outputs": [
    {
     "name": "stdout",
     "output_type": "stream",
     "text": [
      "      quote_dt            sector  up_count  down_count   total      prec\n",
      "0     20171113  Basic Industries        93         119     212  0.438679\n",
      "1     20171110  Basic Industries       176         248     424  0.415094\n",
      "2     20171109  Basic Industries       234         402     636  0.367925\n",
      "3     20171108  Basic Industries       335         513     848  0.395047\n",
      "4     20171107  Basic Industries       400         660    1060  0.377358\n",
      "5     20171106  Basic Industries       527         745    1272  0.414308\n",
      "6     20171103  Basic Industries       617         867    1484  0.415768\n",
      "7     20171102  Basic Industries       713         983    1696  0.420401\n",
      "8     20171101  Basic Industries       818        1090    1908  0.428721\n",
      "9     20171031  Basic Industries       940        1180    2120  0.443396\n",
      "10    20171030  Basic Industries      1008        1324    2332  0.432247\n",
      "11    20171027  Basic Industries      1113        1431    2544  0.437500\n",
      "12    20171026  Basic Industries      1230        1526    2756  0.446299\n",
      "13    20171025  Basic Industries      1295        1673    2968  0.436321\n",
      "14    20171024  Basic Industries      1425        1755    3180  0.448113\n",
      "15    20171023  Basic Industries      1477        1915    3392  0.435436\n",
      "16    20171020  Basic Industries      1611        1993    3604  0.447003\n",
      "17    20171019  Basic Industries      1713        2103    3816  0.448899\n",
      "18    20171018  Basic Industries      1806        2222    4028  0.448361\n",
      "19    20171017  Basic Industries      1867        2373    4240  0.440330\n",
      "20    20171016  Basic Industries      1965        2487    4452  0.441375\n",
      "21    20171013  Basic Industries      2095        2569    4664  0.449185\n",
      "22    20171012  Basic Industries      2219        2657    4876  0.455086\n",
      "23    20171011  Basic Industries      2335        2753    5088  0.458923\n",
      "24    20171010  Basic Industries      2447        2853    5300  0.461698\n",
      "25    20171009  Basic Industries      2520        2992    5512  0.457184\n",
      "26    20171006  Basic Industries      2610        3114    5724  0.455975\n",
      "27    20171005  Basic Industries      2730        3206    5936  0.459906\n",
      "28    20171004  Basic Industries      2818        3330    6148  0.458360\n",
      "29    20171003  Basic Industries      2955        3405    6360  0.464623\n",
      "...        ...               ...       ...         ...     ...       ...\n",
      "3870  20161018               n/a     75644       74761  150405  0.502935\n",
      "3871  20161017               n/a     75722       75238  150960  0.501603\n",
      "3872  20161014               n/a     75907       75608  151515  0.500987\n",
      "3873  20161013               n/a     76019       76051  152070  0.499895\n",
      "3874  20161012               n/a     76174       76451  152625  0.499093\n",
      "3875  20161011               n/a     76236       76944  153180  0.497689\n",
      "3876  20161010               n/a     76637       77098  153735  0.498501\n",
      "3877  20161007               n/a     76786       77504  154290  0.497673\n",
      "3878  20161006               n/a     76978       77867  154845  0.497129\n",
      "3879  20161005               n/a     77256       78144  155400  0.497143\n",
      "3880  20161004               n/a     77326       78629  155955  0.495823\n",
      "3881  20161003               n/a     77527       78983  156510  0.495349\n",
      "3882  20160930               n/a     77918       79147  157065  0.496088\n",
      "3883  20160929               n/a     78003       79617  157620  0.494880\n",
      "3884  20160928               n/a     78434       79741  158175  0.495869\n",
      "3885  20160927               n/a     78840       79890  158730  0.496692\n",
      "3886  20160926               n/a     79003       80282  159285  0.495985\n",
      "3887  20160923               n/a     79167       80673  159840  0.495289\n",
      "3888  20160922               n/a     79649       80746  160395  0.496580\n",
      "3889  20160921               n/a     80097       80853  160950  0.497651\n",
      "3890  20160920               n/a     80388       81117  161505  0.497743\n",
      "3891  20160919               n/a     80715       81345  162060  0.498056\n",
      "3892  20160916               n/a     80893       81722  162615  0.497451\n",
      "3893  20160915               n/a     81241       81929  163170  0.497892\n",
      "3894  20160914               n/a     81540       82185  163725  0.498030\n",
      "3895  20160913               n/a     81586       82694  164280  0.496628\n",
      "3896  20160912               n/a     81881       82954  164835  0.496745\n",
      "3897  20160909               n/a     81892       83498  165390  0.495145\n",
      "3898  20160908               n/a     82116       83829  165945  0.494839\n",
      "3899  20160907               n/a     82456       84044  166500  0.495231\n",
      "\n",
      "[3900 rows x 6 columns]\n",
      "169854300 84271102 85583198\n"
     ]
    }
   ],
   "source": [
    "reports = []\n",
    "target_dt =  -1\n",
    "period = 300\n",
    "for sector, group in companies[['symbol', 'sector']].groupby(['sector']):\n",
    "    \n",
    "    for i in range(period):\n",
    "        cur_dt = target_dt - i\n",
    "        up_count = 0\n",
    "        down_count = 0        \n",
    "        for symbol in group['symbol']:\n",
    "            if symbol in all_quotes and len(all_quotes[symbol]) > period:\n",
    "                quote_dt = all_quotes[symbol]['quote_date'].iloc[cur_dt]\n",
    "                close_p = all_quotes[symbol]['close']\n",
    "\n",
    "                if close_p.iloc[cur_dt] > close_p.iloc[cur_dt - 1]:\n",
    "                    up_count += 1\n",
    "                else:\n",
    "                    down_count += 1\n",
    "        reports.append([quote_dt ,sector, up_count, down_count, up_count + down_count, up_count / (up_count + down_count)])\n",
    "\n",
    "reports = pd.DataFrame(reports, columns = ['quote_dt', 'sector', 'up_count', 'down_count', 'total', 'prec'])\n",
    "print(reports)\n",
    "print(reports['total'].sum(), reports['up_count'].sum(), reports['down_count'].sum())"
   ]
  },
  {
   "cell_type": "code",
   "execution_count": 83,
   "metadata": {
    "collapsed": false
   },
   "outputs": [
    {
     "data": {
      "text/html": [
       "<div>\n",
       "<table border=\"1\" class=\"dataframe\">\n",
       "  <thead>\n",
       "    <tr style=\"text-align: right;\">\n",
       "      <th></th>\n",
       "      <th>sector</th>\n",
       "      <th>up_count</th>\n",
       "      <th>down_count</th>\n",
       "      <th>total</th>\n",
       "    </tr>\n",
       "  </thead>\n",
       "  <tbody>\n",
       "    <tr>\n",
       "      <th>0</th>\n",
       "      <td>Basic Industries</td>\n",
       "      <td>97</td>\n",
       "      <td>127</td>\n",
       "      <td>224</td>\n",
       "    </tr>\n",
       "    <tr>\n",
       "      <th>1</th>\n",
       "      <td>Capital Goods</td>\n",
       "      <td>116</td>\n",
       "      <td>150</td>\n",
       "      <td>266</td>\n",
       "    </tr>\n",
       "    <tr>\n",
       "      <th>2</th>\n",
       "      <td>Consumer Durables</td>\n",
       "      <td>56</td>\n",
       "      <td>36</td>\n",
       "      <td>92</td>\n",
       "    </tr>\n",
       "    <tr>\n",
       "      <th>3</th>\n",
       "      <td>Consumer Non-Durables</td>\n",
       "      <td>75</td>\n",
       "      <td>82</td>\n",
       "      <td>157</td>\n",
       "    </tr>\n",
       "    <tr>\n",
       "      <th>4</th>\n",
       "      <td>Consumer Services</td>\n",
       "      <td>304</td>\n",
       "      <td>323</td>\n",
       "      <td>627</td>\n",
       "    </tr>\n",
       "    <tr>\n",
       "      <th>5</th>\n",
       "      <td>Energy</td>\n",
       "      <td>46</td>\n",
       "      <td>193</td>\n",
       "      <td>239</td>\n",
       "    </tr>\n",
       "    <tr>\n",
       "      <th>6</th>\n",
       "      <td>Finance</td>\n",
       "      <td>311</td>\n",
       "      <td>192</td>\n",
       "      <td>503</td>\n",
       "    </tr>\n",
       "    <tr>\n",
       "      <th>7</th>\n",
       "      <td>Health Care</td>\n",
       "      <td>220</td>\n",
       "      <td>234</td>\n",
       "      <td>454</td>\n",
       "    </tr>\n",
       "    <tr>\n",
       "      <th>8</th>\n",
       "      <td>Miscellaneous</td>\n",
       "      <td>43</td>\n",
       "      <td>56</td>\n",
       "      <td>99</td>\n",
       "    </tr>\n",
       "    <tr>\n",
       "      <th>9</th>\n",
       "      <td>Public Utilities</td>\n",
       "      <td>96</td>\n",
       "      <td>103</td>\n",
       "      <td>199</td>\n",
       "    </tr>\n",
       "    <tr>\n",
       "      <th>10</th>\n",
       "      <td>Technology</td>\n",
       "      <td>197</td>\n",
       "      <td>271</td>\n",
       "      <td>468</td>\n",
       "    </tr>\n",
       "    <tr>\n",
       "      <th>11</th>\n",
       "      <td>Transportation</td>\n",
       "      <td>20</td>\n",
       "      <td>59</td>\n",
       "      <td>79</td>\n",
       "    </tr>\n",
       "    <tr>\n",
       "      <th>12</th>\n",
       "      <td>n/a</td>\n",
       "      <td>199</td>\n",
       "      <td>400</td>\n",
       "      <td>599</td>\n",
       "    </tr>\n",
       "  </tbody>\n",
       "</table>\n",
       "</div>"
      ],
      "text/plain": [
       "                   sector  up_count  down_count  total\n",
       "0        Basic Industries        97         127    224\n",
       "1           Capital Goods       116         150    266\n",
       "2       Consumer Durables        56          36     92\n",
       "3   Consumer Non-Durables        75          82    157\n",
       "4       Consumer Services       304         323    627\n",
       "5                  Energy        46         193    239\n",
       "6                 Finance       311         192    503\n",
       "7             Health Care       220         234    454\n",
       "8           Miscellaneous        43          56     99\n",
       "9        Public Utilities        96         103    199\n",
       "10             Technology       197         271    468\n",
       "11         Transportation        20          59     79\n",
       "12                    n/a       199         400    599"
      ]
     },
     "execution_count": 83,
     "metadata": {},
     "output_type": "execute_result"
    }
   ],
   "source": []
  },
  {
   "cell_type": "markdown",
   "metadata": {},
   "source": [
    "## Find spike"
   ]
  },
  {
   "cell_type": "code",
   "execution_count": 7,
   "metadata": {
    "collapsed": false
   },
   "outputs": [
    {
     "name": "stdout",
     "output_type": "stream",
     "text": [
      "1 \t GTXI \t 20170612 \t 247\t-0.05 \t -0.32 \t Up\n",
      "2 \t SNDX \t 20170517 \t 51\t0.09 \t -0.28 \t Up\n",
      "3 \t SPI \t 20170525 \t 252\t-0.03 \t -0.75 \t Up\n",
      "4 \t WSTC \t 20170510 \t 54\t0.01 \t -0.0 \t Down\n",
      "5 \t WHF \t 20170627 \t 81\t0.09 \t -0.01 \t Down\n",
      "6 \t PRTO \t 20170510 \t 102\t-0.03 \t -0.28 \t Down\n",
      "7 \t MBRX \t 20170621 \t 79\t2.15 \t -0.03 \t Down\n",
      "8 \t OCX \t 20170522 \t 144\t-0.14 \t -0.51 \t Up\n",
      "9 \t AKBA \t 20170426 \t 111\t0.32 \t -0.03 \t Up\n",
      "10 \t PTGX \t 20170530 \t 186\t0.18 \t -0.11 \t Down\n",
      "11 \t OB \t 20170503 \t 69\t0.01 \t -0.0 \t Down\n",
      "12 \t CCIH \t 20170601 \t 50\t0.26 \t -0.43 \t Up\n",
      "13 \t FOGO \t 20170512 \t 68\t0.03 \t -0.03 \t Down\n",
      "14 \t AVEO \t 20170623 \t 89\t2.07 \t 0.56 \t Up\n",
      "15 \t JMP \t 20170705 \t 72\t-0.22 \t -0.27 \t Up\n",
      "16 \t MDGL \t 20170523 \t 58\t0.01 \t -0.19 \t Down\n",
      "17 \t EMMS \t 20170509 \t 77\t0.05 \t -0.14 \t Up\n",
      "18 \t ZPIN \t 20170406 \t 66\t0.06 \t -0.0 \t Up\n",
      "19 \t CLSN \t 20170605 \t 191\t-0.03 \t -0.61 \t Down\n",
      "20 \t ANGI \t 20170502 \t 57\t0.36 \t 0.09 \t Up\n",
      "21 \t TCS \t 20170524 \t 62\t0.14 \t -0.21 \t Down\n",
      "22 \t FORD \t 20170512 \t 152\t-0.1 \t -0.2 \t Up\n",
      "23 \t GLYC \t 20170518 \t 275\t0.31 \t 0.01 \t Up\n",
      "24 \t MOSY \t 20170607 \t 246\t0.25 \t -0.51 \t Up\n",
      "Wall time: 23.2 s\n"
     ]
    }
   ],
   "source": [
    "%%time\n",
    "\n",
    "# count of spike day\n",
    "count = 0\n",
    "# spike volume require multiple\n",
    "spike_multiple = 50\n",
    "# observing date period and sma period\n",
    "start_dt = -150\n",
    "target_dt = -100\n",
    "sma_period = 20\n",
    "\n",
    "for symbol, quotes in all_quotes.items():\n",
    "    if len(quotes) < abs(start_dt) + sma_period:\n",
    "        continue\n",
    "    cur_dt = start_dt\n",
    "    \n",
    "    while cur_dt < target_dt:     \n",
    "        sma_vol = np.mean(quotes['volume'].iloc[cur_dt - sma_period: cur_dt])\n",
    "        vol = quotes['volume'].iloc[cur_dt]\n",
    "        if vol > sma_vol * spike_multiple:\n",
    "            count += 1\n",
    "            # quotes['quote_date'].iloc[cur_dt], sma_vol, vol,\n",
    "            if quotes['close'].iloc[cur_dt] > quotes['open'].iloc[cur_dt]:\n",
    "                trend = 'Up'\n",
    "            else:\n",
    "                trend = 'Down'\n",
    "            print(count, '\\t', symbol, '\\t', quotes['quote_date'].iloc[cur_dt],'\\t',  int(vol / sma_vol), end = '\\t')\n",
    "            price_period = quotes['close'].iloc[cur_dt + 1 : cur_dt + 51]\n",
    "            max_price = np.max(price_period)\n",
    "            min_price = np.min(price_period)\n",
    "            cur_price = quotes['close'].iloc[cur_dt]\n",
    "            #print('Close:', cur_price, '\\tMax:', max_price, '\\tMin:', min_price, end = '\\t')\n",
    "            print(round(max_price / cur_price - 1, 2), '\\t', round(min_price / cur_price - 1, 2), '\\t', trend)\n",
    "            \n",
    "            \n",
    "        # loop\n",
    "        cur_dt += 1\n",
    "\n"
   ]
  },
  {
   "cell_type": "code",
   "execution_count": 51,
   "metadata": {
    "collapsed": false
   },
   "outputs": [
    {
     "data": {
      "text/plain": [
       "True"
      ]
     },
     "execution_count": 51,
     "metadata": {},
     "output_type": "execute_result"
    }
   ],
   "source": [
    "np.any( all_quotes['SNAP']['volume'] > 110)"
   ]
  },
  {
   "cell_type": "code",
   "execution_count": 74,
   "metadata": {
    "collapsed": false
   },
   "outputs": [
    {
     "data": {
      "text/html": [
       "<div>\n",
       "<table border=\"1\" class=\"dataframe\">\n",
       "  <thead>\n",
       "    <tr style=\"text-align: right;\">\n",
       "      <th></th>\n",
       "      <th>quote_date</th>\n",
       "      <th>open</th>\n",
       "      <th>close</th>\n",
       "      <th>high</th>\n",
       "      <th>low</th>\n",
       "      <th>volume</th>\n",
       "    </tr>\n",
       "  </thead>\n",
       "  <tbody>\n",
       "    <tr>\n",
       "      <th>0</th>\n",
       "      <td>20170302</td>\n",
       "      <td>24.00</td>\n",
       "      <td>24.48</td>\n",
       "      <td>26.05</td>\n",
       "      <td>23.50</td>\n",
       "      <td>216978300</td>\n",
       "    </tr>\n",
       "    <tr>\n",
       "      <th>1</th>\n",
       "      <td>20170303</td>\n",
       "      <td>26.39</td>\n",
       "      <td>27.09</td>\n",
       "      <td>29.44</td>\n",
       "      <td>26.06</td>\n",
       "      <td>148099300</td>\n",
       "    </tr>\n",
       "    <tr>\n",
       "      <th>2</th>\n",
       "      <td>20170306</td>\n",
       "      <td>28.17</td>\n",
       "      <td>23.77</td>\n",
       "      <td>28.25</td>\n",
       "      <td>23.77</td>\n",
       "      <td>72804120</td>\n",
       "    </tr>\n",
       "    <tr>\n",
       "      <th>3</th>\n",
       "      <td>20170307</td>\n",
       "      <td>22.21</td>\n",
       "      <td>21.44</td>\n",
       "      <td>22.50</td>\n",
       "      <td>20.64</td>\n",
       "      <td>71810660</td>\n",
       "    </tr>\n",
       "    <tr>\n",
       "      <th>4</th>\n",
       "      <td>20170308</td>\n",
       "      <td>22.03</td>\n",
       "      <td>22.81</td>\n",
       "      <td>23.43</td>\n",
       "      <td>21.31</td>\n",
       "      <td>49784130</td>\n",
       "    </tr>\n",
       "  </tbody>\n",
       "</table>\n",
       "</div>"
      ],
      "text/plain": [
       "   quote_date   open  close   high    low     volume\n",
       "0    20170302  24.00  24.48  26.05  23.50  216978300\n",
       "1    20170303  26.39  27.09  29.44  26.06  148099300\n",
       "2    20170306  28.17  23.77  28.25  23.77   72804120\n",
       "3    20170307  22.21  21.44  22.50  20.64   71810660\n",
       "4    20170308  22.03  22.81  23.43  21.31   49784130"
      ]
     },
     "execution_count": 74,
     "metadata": {},
     "output_type": "execute_result"
    }
   ],
   "source": []
  }
 ],
 "metadata": {
  "anaconda-cloud": {},
  "kernelspec": {
   "display_name": "Python [conda root]",
   "language": "python",
   "name": "conda-root-py"
  },
  "language_info": {
   "codemirror_mode": {
    "name": "ipython",
    "version": 3
   },
   "file_extension": ".py",
   "mimetype": "text/x-python",
   "name": "python",
   "nbconvert_exporter": "python",
   "pygments_lexer": "ipython3",
   "version": "3.5.2"
  }
 },
 "nbformat": 4,
 "nbformat_minor": 1
}
